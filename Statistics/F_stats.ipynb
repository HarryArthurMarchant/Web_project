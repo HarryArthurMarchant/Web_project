{
 "cells": [
  {
   "cell_type": "code",
   "execution_count": 3,
   "metadata": {},
   "outputs": [],
   "source": [
    "\n",
    "def Fst(population, pop_AA, pop_Aa, pop_aa):\n",
    "    \n",
    "    p = ((2 *pop_AA ) + pop_Aa) / (2 * population)    #calculating p and q values\n",
    "    q= 1 - p\n",
    "    \n",
    "    H_obs = pop_Aa / population\n",
    "    \n",
    "    H_exp = 2 * p * q\n",
    "    \n",
    "    F = (H_exp - H_obs ) /H_exp\n",
    "    \n",
    "    p_bar= ((2* pop_AA ) + pop_Aa )/ (2 * (population))\n",
    "    q_bar = ((2 *pop_aa ) + pop_Aa) /  (2 * (population))\n",
    "    \n",
    "    HI = (H_obs * population) / (population)\n",
    "    HS= (H_exp * population) / (population)\n",
    "    \n",
    "    HT = 2 * p_bar * q_bar\n",
    "    F_ST = (HT - HS)/ HT\n",
    "    \n",
    "    return F_ST\n",
    "    "
   ]
  },
  {
   "cell_type": "code",
   "execution_count": 4,
   "metadata": {},
   "outputs": [
    {
     "name": "stdout",
     "output_type": "stream",
     "text": [
      "([500, 125, 250, 125], [100, 50, 30, 20])\n",
      "1.2200253017858864e-16\n",
      "([500, 125, 250, 125], [1000, 100, 500, 400])\n",
      "0.0\n",
      "([100, 50, 30, 20], [1000, 100, 500, 400])\n",
      "0.0\n"
     ]
    }
   ],
   "source": [
    "import itertools\n",
    "#pairwise combinations using F stats\n",
    "\n",
    "# data\n",
    "#p = [sample size, AA, Aa, aa]\n",
    "\n",
    "p1 =[500, 125, 250, 125]\n",
    "p2 = [100, 50, 30, 20]\n",
    "p3 = [1000, 100, 500, 400]\n",
    "\n",
    "#create a list\n",
    "populations = [p1, p2, p3]\n",
    "\n",
    "#getting pairwise combinations\n",
    "\n",
    "for each in itertools.combinations(populations,2):\n",
    "    print(each)\n",
    "    for x in each:\n",
    "        A = Fst(population = x[0], pop_AA = x[1], pop_Aa =x[2] , pop_aa = x[3])\n",
    "    print(A)\n"
   ]
  },
  {
   "cell_type": "markdown",
   "metadata": {},
   "source": [
    "High FST implies a considerable degree of differentiation among populations."
   ]
  },
  {
   "cell_type": "code",
   "execution_count": null,
   "metadata": {},
   "outputs": [],
   "source": [
    "#unique permuations"
   ]
  }
 ],
 "metadata": {
  "kernelspec": {
   "display_name": "Python 3",
   "language": "python",
   "name": "python3"
  },
  "language_info": {
   "codemirror_mode": {
    "name": "ipython",
    "version": 3
   },
   "file_extension": ".py",
   "mimetype": "text/x-python",
   "name": "python",
   "nbconvert_exporter": "python",
   "pygments_lexer": "ipython3",
   "version": "3.8.3"
  }
 },
 "nbformat": 4,
 "nbformat_minor": 4
}
