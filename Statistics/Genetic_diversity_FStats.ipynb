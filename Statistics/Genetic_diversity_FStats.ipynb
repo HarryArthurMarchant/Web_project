{
 "cells": [
  {
   "cell_type": "code",
   "execution_count": 1,
   "metadata": {},
   "outputs": [],
   "source": [
    "#getting data for observed, expected, chi squared\n",
    "import pandas as pd\n",
    "df = pd.read_csv('GBR_data.tsv', sep = '\\t')"
   ]
  },
  {
   "cell_type": "code",
   "execution_count": 2,
   "metadata": {},
   "outputs": [],
   "source": [
    "# Calculating observed and expected\n",
    "\n",
    "def h_exp_obs_Aa(AA, Aa, aa):\n",
    "    \n",
    "    'Calculates expected and observed heterzygosity'\n",
    "    \n",
    "    p = ((2 * AA) + Aa)/ (2 * (AA + Aa + aa))\n",
    "    q = ((2 * aa) + Aa)/ (2 * (AA + Aa + aa))\n",
    "    \n",
    "    #2pq\n",
    "    twice_p_q = 2 * p * q\n",
    "    \n",
    "    #Calculating Observed\n",
    "    Observed = (Aa *2) /(2 * (AA + Aa + aa))\n",
    " \n",
    "    return Observed, twice_p_q"
   ]
  },
  {
   "cell_type": "code",
   "execution_count": 3,
   "metadata": {},
   "outputs": [],
   "source": [
    "### Calculating Chi squared\n",
    "### Testing for Hardy-Weinberg Equilibrium\n",
    "### Null hyp --> No difference between the observed and expected data\n",
    "\n",
    "from scipy.stats import chisquare\n",
    "\n",
    "def H_W_Equlibrium(AA, Aa, aa):\n",
    "    \n",
    "    'Calculates whether there is a significant difference between the observed and expected data.'\n",
    "    \n",
    "    data = [AA, Aa, aa]\n",
    "    chi, p= chisquare(data)\n",
    "    return p"
   ]
  },
  {
   "cell_type": "code",
   "execution_count": 4,
   "metadata": {},
   "outputs": [],
   "source": [
    "#calculating where there is a difference between observed and expected\n",
    "# note it returns nan when values are nearly the same\n",
    "\n",
    "from scipy.stats import bartlett\n",
    "\n",
    "def equal_variance(O, E):     \n",
    "    stat, p = bartlett(O, E)\n",
    "    return p\n"
   ]
  },
  {
   "cell_type": "code",
   "execution_count": null,
   "metadata": {},
   "outputs": [],
   "source": [
    "#Observed and expected heterzygosity & chi squared\n",
    "\n",
    "hom_ref =[] #12:14        # didnt know how to iterate using dictionary so used indices\n",
    "het = [] # 22:24\n",
    "hom_alt = [] #37:38\n",
    "rs = [] # rs values\n",
    "\n",
    "GBR_geno = df['genotypes']\n",
    "for x in GBR_geno:\n",
    "    hom_ref.append(x[12:14])\n",
    "    het.append(x[22:24])\n",
    "    hom_alt.append(x[37:38])\n",
    "    \n",
    "GBR_rs = df['ID']\n",
    "for x in GBR_rs:\n",
    "    rs.append(x)\n",
    "    \n",
    "GBR_data = list(zip(hom_ref, het, hom_alt))  #getting the data\n",
    "GBR = list(zip(rs, GBR_data))\n",
    "#print(GBR)\n",
    "\n",
    "rs_value = []\n",
    "C = [] #observed and expected\n",
    "E = [] #H_W\n",
    "\n",
    "for x in GBR:\n",
    "    try:\n",
    "        rs_value.append(x[0])\n",
    "        Calculations = h_exp_obs_Aa(AA = int(x[1][0]), Aa = int(x[1][1]), aa = int(x[1][2]))\n",
    "        C.append(Calculations)\n",
    "        Equ = H_W_Equlibrium(AA = int(x[1][0]), Aa = int(x[1][1]), aa = int(x[1][2]))\n",
    "        E.append(Equ)\n",
    "    except:\n",
    "        Calculations = 'N/A' \n",
    "        Equ = 'N/A'\n",
    "          \n",
    "C.append(Calculations)\n",
    "O_E = list(zip(rs_value, C, E, ))\n",
    "\n",
    "\n",
    "#outputing tsv\n",
    "import csv    \n",
    "\n",
    "with open('GBR_O_E_CHI_.tsv','w', newline='') as f_output:\n",
    "    tsv_output = csv.writer(f_output, delimiter='\\t')\n",
    "    tsv_output.writerow(O_E)\n",
    "\n"
   ]
  },
  {
   "cell_type": "code",
   "execution_count": 5,
   "metadata": {},
   "outputs": [],
   "source": [
    "##FST eq for just one population\n",
    "\n",
    "#if mutiple populations are selected then population genetic variation (FST value) for each pair of populations should be reported\n",
    "\n",
    "def Fst(population, pop_AA, pop_Aa, pop_aa):\n",
    "    \n",
    "    p = ((2 *pop_AA ) + pop_Aa) / (2 * population)    #calculating p and q values\n",
    "    q= 1 - p\n",
    "    \n",
    "    H_obs = pop_Aa / population\n",
    "    \n",
    "    H_exp = 2 * p * q\n",
    "    \n",
    "    F = (H_exp - H_obs ) /H_exp\n",
    "    \n",
    "    p_bar= ((2* pop_AA ) + pop_Aa )/ (2 *(population))\n",
    "    q_bar = ((2 *pop_aa ) + pop_Aa) /  (2 *(population))\n",
    "    \n",
    "    HI = (H_obs * population) / population\n",
    "    HS= (H_exp * population) / population\n",
    "    \n",
    "    HT = 2 * p_bar * q_bar\n",
    "    F_ST = (HT - HS)/ HT\n",
    "    \n",
    "    return F_ST\n",
    "    \n",
    "                                      \n",
    "    "
   ]
  },
  {
   "cell_type": "code",
   "execution_count": 6,
   "metadata": {},
   "outputs": [],
   "source": [
    "####FINAL fST eqn\n",
    "#http://www.uwyo.edu/dbmcd/molmark/practica/fst.html\n",
    "#N = number of populations\n",
    "#hom_ref = AA       \n",
    "#het = Aa\n",
    "#hom_alt = aa\n",
    "#population_ = number of samples\n",
    "\n",
    "def Fst(N,population_1, population_2, \n",
    "             pop1_AA, pop2_AA,\n",
    "             pop1_Aa, pop2_Aa,\n",
    "             pop1_aa, pop2_aa,\n",
    "             population_3 = 0, population_4 = 0, population_5 = 0, \n",
    "             pop3_AA = 0, pop4_AA = 0, pop5_AA = 0,\n",
    "             pop3_Aa = 0, pop4_Aa = 0, pop5_Aa = 0,\n",
    "             pop3_aa = 0, pop4_aa = 0, pop5_aa = 0):\n",
    "    \n",
    "    'Calculates F-statistics from genotypic data.'\n",
    "    \n",
    "    if N == 2:\n",
    "        p_1 = ((2 *pop1_AA ) + pop1_Aa) / (2 * population_1)    #calculating p and q values\n",
    "        q_1= 1 - p_1\n",
    "    \n",
    "        p_2 = ((2* pop2_AA ) + pop2_Aa) / (2 * population_2)\n",
    "        q_2= 1 - p_2\n",
    "        \n",
    "        H_obs1 = pop1_Aa / population_1  #calculating observed heterzygosity\n",
    "        H_obs2 = pop2_Aa / population_2\n",
    "        \n",
    "        H_exp_1 = 2 * p_1 * q_1    #calculating expected heterzygosity(2pq)\n",
    "        H_exp_2 = 2 * p_2 * q_2\n",
    "        \n",
    "        F_1 = (H_exp_1 - H_obs1 ) /H_exp_1  #calculating population inbreeding coefficient\n",
    "        F_2 = (H_exp_2 - H_obs2 ) /H_exp_2\n",
    "        \n",
    "        #calculating p-bar and q-bar\n",
    "        \n",
    "        p_bar= ((2* pop1_AA ) + pop1_Aa + (2* pop2_AA ) + pop2_Aa)/ (2 *(population_1 + population_2))\n",
    "        q_bar = ((2 *pop1_aa ) + pop1_Aa + (2 *pop2_aa ) + pop2_Aa) /  (2 *(population_1 + population_2))\n",
    "       \n",
    "        #HI based on observed heterozygosities in populations\n",
    "        HI = ((H_obs1 * population_1) + (H_obs2 * population_2)) / (population_1 + population_2)\n",
    "     \n",
    "        #HS based on expected heterozygosities in populations\n",
    "        HS= (H_exp_1 * population_1) + (H_exp_2 * population_2) / (population_1 + population_2)\n",
    "        \n",
    "        #HT based on expected heterozygosities overall:\n",
    "        HT = 2 * p_bar * q_bar\n",
    "        \n",
    "        \n",
    "    elif N == 3:\n",
    "        p_1 = ((2 *pop1_AA ) + pop1_Aa) / (2 * population_1)\n",
    "        q_1= 1 - p_1\n",
    "    \n",
    "        p_2 = ((2* pop2_AA ) + pop2_Aa) / (2 * population_2)\n",
    "        q_2= 1 - p_2\n",
    "        \n",
    "        p_3 = ((2* pop3_AA ) + pop3_Aa) / (2 * population_3)\n",
    "        q_3 = 1 - p_3\n",
    "        \n",
    "        H_obs1 = pop1_Aa / population_1\n",
    "        H_obs2 = pop2_Aa / population_2\n",
    "        H_obs3 = pop3_Aa / population_3\n",
    "        \n",
    "        H_exp_1 = 2 * p_1 * q_1\n",
    "        H_exp_2 = 2 * p_2 * q_2\n",
    "        H_exp_3 = 2 * p_3 * q_3\n",
    "        \n",
    "        F_1 = (H_exp_1 - H_obs1 ) /H_exp_1\n",
    "        F_2 = (H_exp_2 - H_obs2 ) /H_exp_2\n",
    "        F_3 = (H_exp_3 - H_obs3 ) /H_exp_3\n",
    "        \n",
    "        p_bar = ((2* pop1_AA ) + pop1_Aa + (2* pop2_AA ) + pop2_Aa + (2* pop3_AA ) + pop3_Aa) / (2 *(population_1 + population_2 +population_3))\n",
    "        q_bar = ((2 *pop1_aa ) + pop1_Aa + (2 *pop2_aa ) + pop2_Aa + (2 *pop3_aa ) + pop3_Aa) / (2 *(population_1 + population_2 + population_3))\n",
    "        \n",
    "        HI= ((H_obs1 * population_1) + (H_obs2 * population_2) + (H_obs3 * population_3 )) / (population_1 + population_2 + population_3)\n",
    "    \n",
    "        HS = ((H_exp_1 * population_1) + (H_exp_2 * population_2) + (H_exp_3 * population_3 )) / (population_1 + population_2 + population_3)\n",
    "        \n",
    "        HT = 2 * p_bar * q_bar\n",
    "        \n",
    "        \n",
    "    elif N == 4:\n",
    "        p_1 = ((2 *pop1_AA ) + pop1_Aa) / (2 * population_1)\n",
    "        q_1= 1 - p_1\n",
    "    \n",
    "        p_2 = ((2* pop2_AA ) + pop2_Aa) / (2 * population_2)\n",
    "        q_2= 1 - p_2\n",
    "        \n",
    "        p_3 = ((2* pop3_AA ) + pop3_Aa) / (2 * population_3)\n",
    "        q_3 = 1 - p_3\n",
    "        \n",
    "        p_4 = ((2* pop4_AA ) + pop4_Aa) / (2 * population_4)\n",
    "        q_4 = 1 - p_4\n",
    "        \n",
    "        H_obs1 = pop1_Aa / population_1\n",
    "        H_obs2 = pop2_Aa / population_2\n",
    "        H_obs3 = pop3_Aa / population_3\n",
    "        H_obs4 = pop4_Aa / population_4\n",
    "        \n",
    "        H_exp_1 = 2 * p_1 * q_1\n",
    "        H_exp_2 = 2 * p_2 * q_2\n",
    "        H_exp_3 = 2 * p_3 * q_3\n",
    "        H_exp_4 = 2 * p_4 * q_4\n",
    "        \n",
    "        F_1 = (H_exp_1 - H_obs1 ) /H_exp_1\n",
    "        F_2 = (H_exp_2 - H_obs2 ) /H_exp_2\n",
    "        F_3 = (H_exp_3 - H_obs3 ) /H_exp_3\n",
    "        F_4 = (H_exp_4 - H_obs4 ) /H_exp_4\n",
    "        \n",
    "        p_bar= ((2* pop1_AA ) + pop1_Aa + (2* pop2_AA ) + pop2_Aa + (2* pop3_AA ) + pop3_Aa + (2* pop4_AA ) + pop4_Aa)/ (2 *(population_1 + population_2 +population_3 +population_4))\n",
    "        q_bar= ((2 *pop1_aa ) + pop1_Aa + (2 *pop2_aa ) + pop2_Aa + (2 *pop3_aa ) + pop3_Aa +  (2 *pop4_aa ) + pop4_Aa) / (2 *(population_1 + population_2 + population_3 + population_4 ))\n",
    "        \n",
    "        HI= ((H_obs1 * population_1) + (H_obs2 * population_2) + (H_obs3 * population_3 ) + (H_obs4 * population_4 )) / (population_1 + population_2 + population_3 + population_4)\n",
    "    \n",
    "        HS= ((H_exp_1 * population_1) + (H_exp_2 * population_2) + (H_exp_3 * population_3 ) + (H_exp_4 * population_4 )) / (population_1 + population_2 + population_3 + population_4)\n",
    "        \n",
    "        HT = 2 * p_bar * q_bar\n",
    "        \n",
    "    else:\n",
    "        p_1 = ((2 *pop1_AA ) + pop1_Aa) / (2 * population_1)\n",
    "        q_1= 1 - p_1\n",
    "    \n",
    "        p_2 = ((2* pop2_AA ) + pop2_Aa) / (2 * population_2)\n",
    "        q_2= 1 - p_2\n",
    "        \n",
    "        p_3 = ((2* pop3_AA ) + pop3_Aa) / (2 * population_3)\n",
    "        q_3 = 1 - p_3\n",
    "        \n",
    "        p_4 = ((2* pop4_AA ) + pop4_Aa) / (2 * population_4)\n",
    "        q_4 = 1 - p_4\n",
    "        \n",
    "        p_5 = ((2* pop5_AA ) + pop5_Aa) / (2 * population_5)\n",
    "        q_5 = 1 - p_5\n",
    "        \n",
    "        H_obs1 = pop1_Aa / population_1\n",
    "        H_obs2 = pop2_Aa / population_2\n",
    "        H_obs3 = pop3_Aa / population_3\n",
    "        H_obs4 = pop4_Aa / population_4\n",
    "        H_obs5 = pop5_Aa / population_5\n",
    "        \n",
    "        H_exp_1 = 2 * p_1 * q_1\n",
    "        H_exp_2 = 2 * p_2 * q_2\n",
    "        H_exp_3 = 2 * p_3 * q_3\n",
    "        H_exp_4 = 2 * p_4 * q_4\n",
    "        H_exp_5 = 2 * p_5 * q_5\n",
    "        \n",
    "        F_1 = (H_exp_1 - H_obs1 ) /H_exp_1\n",
    "        F_2 = (H_exp_2 - H_obs2 ) /H_exp_2\n",
    "        F_3 = (H_exp_3 - H_obs3 ) /H_exp_3\n",
    "        F_4 = (H_exp_4 - H_obs4 ) /H_exp_4\n",
    "        F_5 = (H_exp_5 - H_obs5 ) /H_exp_5\n",
    "        \n",
    "        p_bar = ((2* pop1_AA ) + pop1_Aa + (2* pop2_AA ) + pop2_Aa + (2* pop3_AA ) + pop3_Aa + (2* pop4_AA ) + pop4_Aa + (2* pop5_AA ) + pop5_Aa)/ (2 *(population_1 + population_2 +population_3 +population_4 + population_5))\n",
    "        q_bar = ((2 *pop1_aa ) + pop1_Aa + (2 *pop2_aa ) + pop2_Aa + (2 *pop3_aa ) + pop3_Aa +  (2 *pop4_aa ) + pop4_Aa \n",
    "        +(2 *pop5_aa ) + pop5_Aa)/ (2 *(population_1 + population_2 + population_3 + population_4 + population_5))\n",
    "        \n",
    "        HI = ((H_obs1 * population_1) + (H_obs2 * population_2) + (H_obs3 * population_3 ) + (H_obs4 * population_4 ) \n",
    "        + (H_obs5 * population_5 )) / (population_1 + population_2 + population_3 + population_4 + population_5)\n",
    "    \n",
    "        HS = ((H_exp_1 * population_1) + (H_exp_2 * population_2) + (H_exp_3 * population_3 ) + (H_exp_4 * population_4 ) \n",
    "        + (H_exp_5 * population_5 ))/ (population_1 + population_2 + population_3 + population_4 + population_5)\n",
    "        \n",
    "        HT = 2 * p_bar * q_bar\n",
    "        \n",
    "    F_IS = (HS - HI) / HS\n",
    "    F_ST = (HT - HS)/ HT\n",
    "    F_IT = (HT -HI)/ HT\n",
    "    \n",
    "    return F_IS, F_ST, F_IT  # Calculating F-Statistics\n",
    "\n",
    "\n"
   ]
  },
  {
   "cell_type": "code",
   "execution_count": 7,
   "metadata": {},
   "outputs": [],
   "source": [
    "# checking with the ones on website\n",
    "# http://www.uwyo.edu/dbmcd/molmark/practica/fst.html\n",
    "A = Fst(N = 3, population_1 = 500, population_2 =100, \n",
    "             pop1_AA = 125, pop2_AA = 50,\n",
    "             pop1_Aa = 250, pop2_Aa = 30,\n",
    "             pop1_aa = 125, pop2_aa =20,\n",
    "             population_3 = 1000,\n",
    "             pop3_AA = 100, \n",
    "             pop3_Aa = 500,\n",
    "             pop3_aa = 400)            \n",
    "          "
   ]
  },
  {
   "cell_type": "code",
   "execution_count": 8,
   "metadata": {},
   "outputs": [
    {
     "name": "stdout",
     "output_type": "stream",
     "text": [
      "(-0.039307128580946024, 0.03437738731856383, -0.0035784648787744212)\n"
     ]
    }
   ],
   "source": [
    "print(A)"
   ]
  },
  {
   "cell_type": "markdown",
   "metadata": {},
   "source": [
    "F-statistics: a measure of genetic structure developed by Sewall Wright (1969, 1978). Related to statistical analysis of variance  (ANOVA)\n",
    "FST is the proportion of the total genetic variance contained in a subpopulation (the S subscript) relative to the total genetic variance (the T subscript). Values can range from 0 to 1. High FST implies a considerable degree of differentiation among populations.\n",
    "FIS (inbreeding coefficient) is the proportion of the variance in the subpopulation contained in an individual. High FIS implies a considerable degree of inbreeding.\n"
   ]
  },
  {
   "cell_type": "code",
   "execution_count": 9,
   "metadata": {},
   "outputs": [],
   "source": [
    "#producing graphs for expected and observed.\n",
    "\n",
    "import plotly\n",
    "import plotly.express as px\n",
    "import matplotlib.pyplot as plt\n",
    "import pandas as pd"
   ]
  },
  {
   "cell_type": "code",
   "execution_count": 67,
   "metadata": {},
   "outputs": [],
   "source": [
    "#practice with dummy data\n",
    "df = pd.read_csv('dummy_data_1.csv')\n",
    "#print(df)"
   ]
  },
  {
   "cell_type": "code",
   "execution_count": 93,
   "metadata": {},
   "outputs": [
    {
     "data": {
      "application/vnd.plotly.v1+json": {
       "config": {
        "plotlyServerURL": "https://plot.ly"
       },
       "data": [
        {
         "name": "observed",
         "type": "scatter",
         "x": [
          "rs587697622",
          "rs587755077",
          "rs587654921",
          "rs587712275",
          "rs587769434",
          "rs587638893",
          "rs587720402",
          "rs587593704",
          "rs587670191",
          "rs587703534",
          "rs139377059",
          "rs587682556",
          "rs587756191",
          "rs587652033",
          "rs587684957",
          "rs587743568"
         ],
         "y": [
          0,
          0,
          0,
          0,
          0,
          0,
          0,
          0,
          0,
          0,
          0,
          0,
          0,
          0,
          0,
          0
         ]
        },
        {
         "name": "expected",
         "type": "scatter",
         "x": [
          "rs587697622",
          "rs587755077",
          "rs587654921",
          "rs587712275",
          "rs587769434",
          "rs587638893",
          "rs587720402",
          "rs587593704",
          "rs587670191",
          "rs587703534",
          "rs139377059",
          "rs587682556",
          "rs587756191",
          "rs587652033",
          "rs587684957",
          "rs587743568"
         ],
         "y": [
          0,
          0,
          0,
          0,
          0,
          0,
          0,
          0,
          0,
          0,
          0,
          0,
          0,
          0,
          0,
          0
         ]
        }
       ],
       "layout": {
        "template": {
         "data": {
          "bar": [
           {
            "error_x": {
             "color": "#2a3f5f"
            },
            "error_y": {
             "color": "#2a3f5f"
            },
            "marker": {
             "line": {
              "color": "#E5ECF6",
              "width": 0.5
             },
             "pattern": {
              "fillmode": "overlay",
              "size": 10,
              "solidity": 0.2
             }
            },
            "type": "bar"
           }
          ],
          "barpolar": [
           {
            "marker": {
             "line": {
              "color": "#E5ECF6",
              "width": 0.5
             },
             "pattern": {
              "fillmode": "overlay",
              "size": 10,
              "solidity": 0.2
             }
            },
            "type": "barpolar"
           }
          ],
          "carpet": [
           {
            "aaxis": {
             "endlinecolor": "#2a3f5f",
             "gridcolor": "white",
             "linecolor": "white",
             "minorgridcolor": "white",
             "startlinecolor": "#2a3f5f"
            },
            "baxis": {
             "endlinecolor": "#2a3f5f",
             "gridcolor": "white",
             "linecolor": "white",
             "minorgridcolor": "white",
             "startlinecolor": "#2a3f5f"
            },
            "type": "carpet"
           }
          ],
          "choropleth": [
           {
            "colorbar": {
             "outlinewidth": 0,
             "ticks": ""
            },
            "type": "choropleth"
           }
          ],
          "contour": [
           {
            "colorbar": {
             "outlinewidth": 0,
             "ticks": ""
            },
            "colorscale": [
             [
              0,
              "#0d0887"
             ],
             [
              0.1111111111111111,
              "#46039f"
             ],
             [
              0.2222222222222222,
              "#7201a8"
             ],
             [
              0.3333333333333333,
              "#9c179e"
             ],
             [
              0.4444444444444444,
              "#bd3786"
             ],
             [
              0.5555555555555556,
              "#d8576b"
             ],
             [
              0.6666666666666666,
              "#ed7953"
             ],
             [
              0.7777777777777778,
              "#fb9f3a"
             ],
             [
              0.8888888888888888,
              "#fdca26"
             ],
             [
              1,
              "#f0f921"
             ]
            ],
            "type": "contour"
           }
          ],
          "contourcarpet": [
           {
            "colorbar": {
             "outlinewidth": 0,
             "ticks": ""
            },
            "type": "contourcarpet"
           }
          ],
          "heatmap": [
           {
            "colorbar": {
             "outlinewidth": 0,
             "ticks": ""
            },
            "colorscale": [
             [
              0,
              "#0d0887"
             ],
             [
              0.1111111111111111,
              "#46039f"
             ],
             [
              0.2222222222222222,
              "#7201a8"
             ],
             [
              0.3333333333333333,
              "#9c179e"
             ],
             [
              0.4444444444444444,
              "#bd3786"
             ],
             [
              0.5555555555555556,
              "#d8576b"
             ],
             [
              0.6666666666666666,
              "#ed7953"
             ],
             [
              0.7777777777777778,
              "#fb9f3a"
             ],
             [
              0.8888888888888888,
              "#fdca26"
             ],
             [
              1,
              "#f0f921"
             ]
            ],
            "type": "heatmap"
           }
          ],
          "heatmapgl": [
           {
            "colorbar": {
             "outlinewidth": 0,
             "ticks": ""
            },
            "colorscale": [
             [
              0,
              "#0d0887"
             ],
             [
              0.1111111111111111,
              "#46039f"
             ],
             [
              0.2222222222222222,
              "#7201a8"
             ],
             [
              0.3333333333333333,
              "#9c179e"
             ],
             [
              0.4444444444444444,
              "#bd3786"
             ],
             [
              0.5555555555555556,
              "#d8576b"
             ],
             [
              0.6666666666666666,
              "#ed7953"
             ],
             [
              0.7777777777777778,
              "#fb9f3a"
             ],
             [
              0.8888888888888888,
              "#fdca26"
             ],
             [
              1,
              "#f0f921"
             ]
            ],
            "type": "heatmapgl"
           }
          ],
          "histogram": [
           {
            "marker": {
             "pattern": {
              "fillmode": "overlay",
              "size": 10,
              "solidity": 0.2
             }
            },
            "type": "histogram"
           }
          ],
          "histogram2d": [
           {
            "colorbar": {
             "outlinewidth": 0,
             "ticks": ""
            },
            "colorscale": [
             [
              0,
              "#0d0887"
             ],
             [
              0.1111111111111111,
              "#46039f"
             ],
             [
              0.2222222222222222,
              "#7201a8"
             ],
             [
              0.3333333333333333,
              "#9c179e"
             ],
             [
              0.4444444444444444,
              "#bd3786"
             ],
             [
              0.5555555555555556,
              "#d8576b"
             ],
             [
              0.6666666666666666,
              "#ed7953"
             ],
             [
              0.7777777777777778,
              "#fb9f3a"
             ],
             [
              0.8888888888888888,
              "#fdca26"
             ],
             [
              1,
              "#f0f921"
             ]
            ],
            "type": "histogram2d"
           }
          ],
          "histogram2dcontour": [
           {
            "colorbar": {
             "outlinewidth": 0,
             "ticks": ""
            },
            "colorscale": [
             [
              0,
              "#0d0887"
             ],
             [
              0.1111111111111111,
              "#46039f"
             ],
             [
              0.2222222222222222,
              "#7201a8"
             ],
             [
              0.3333333333333333,
              "#9c179e"
             ],
             [
              0.4444444444444444,
              "#bd3786"
             ],
             [
              0.5555555555555556,
              "#d8576b"
             ],
             [
              0.6666666666666666,
              "#ed7953"
             ],
             [
              0.7777777777777778,
              "#fb9f3a"
             ],
             [
              0.8888888888888888,
              "#fdca26"
             ],
             [
              1,
              "#f0f921"
             ]
            ],
            "type": "histogram2dcontour"
           }
          ],
          "mesh3d": [
           {
            "colorbar": {
             "outlinewidth": 0,
             "ticks": ""
            },
            "type": "mesh3d"
           }
          ],
          "parcoords": [
           {
            "line": {
             "colorbar": {
              "outlinewidth": 0,
              "ticks": ""
             }
            },
            "type": "parcoords"
           }
          ],
          "pie": [
           {
            "automargin": true,
            "type": "pie"
           }
          ],
          "scatter": [
           {
            "marker": {
             "colorbar": {
              "outlinewidth": 0,
              "ticks": ""
             }
            },
            "type": "scatter"
           }
          ],
          "scatter3d": [
           {
            "line": {
             "colorbar": {
              "outlinewidth": 0,
              "ticks": ""
             }
            },
            "marker": {
             "colorbar": {
              "outlinewidth": 0,
              "ticks": ""
             }
            },
            "type": "scatter3d"
           }
          ],
          "scattercarpet": [
           {
            "marker": {
             "colorbar": {
              "outlinewidth": 0,
              "ticks": ""
             }
            },
            "type": "scattercarpet"
           }
          ],
          "scattergeo": [
           {
            "marker": {
             "colorbar": {
              "outlinewidth": 0,
              "ticks": ""
             }
            },
            "type": "scattergeo"
           }
          ],
          "scattergl": [
           {
            "marker": {
             "colorbar": {
              "outlinewidth": 0,
              "ticks": ""
             }
            },
            "type": "scattergl"
           }
          ],
          "scattermapbox": [
           {
            "marker": {
             "colorbar": {
              "outlinewidth": 0,
              "ticks": ""
             }
            },
            "type": "scattermapbox"
           }
          ],
          "scatterpolar": [
           {
            "marker": {
             "colorbar": {
              "outlinewidth": 0,
              "ticks": ""
             }
            },
            "type": "scatterpolar"
           }
          ],
          "scatterpolargl": [
           {
            "marker": {
             "colorbar": {
              "outlinewidth": 0,
              "ticks": ""
             }
            },
            "type": "scatterpolargl"
           }
          ],
          "scatterternary": [
           {
            "marker": {
             "colorbar": {
              "outlinewidth": 0,
              "ticks": ""
             }
            },
            "type": "scatterternary"
           }
          ],
          "surface": [
           {
            "colorbar": {
             "outlinewidth": 0,
             "ticks": ""
            },
            "colorscale": [
             [
              0,
              "#0d0887"
             ],
             [
              0.1111111111111111,
              "#46039f"
             ],
             [
              0.2222222222222222,
              "#7201a8"
             ],
             [
              0.3333333333333333,
              "#9c179e"
             ],
             [
              0.4444444444444444,
              "#bd3786"
             ],
             [
              0.5555555555555556,
              "#d8576b"
             ],
             [
              0.6666666666666666,
              "#ed7953"
             ],
             [
              0.7777777777777778,
              "#fb9f3a"
             ],
             [
              0.8888888888888888,
              "#fdca26"
             ],
             [
              1,
              "#f0f921"
             ]
            ],
            "type": "surface"
           }
          ],
          "table": [
           {
            "cells": {
             "fill": {
              "color": "#EBF0F8"
             },
             "line": {
              "color": "white"
             }
            },
            "header": {
             "fill": {
              "color": "#C8D4E3"
             },
             "line": {
              "color": "white"
             }
            },
            "type": "table"
           }
          ]
         },
         "layout": {
          "annotationdefaults": {
           "arrowcolor": "#2a3f5f",
           "arrowhead": 0,
           "arrowwidth": 1
          },
          "autotypenumbers": "strict",
          "coloraxis": {
           "colorbar": {
            "outlinewidth": 0,
            "ticks": ""
           }
          },
          "colorscale": {
           "diverging": [
            [
             0,
             "#8e0152"
            ],
            [
             0.1,
             "#c51b7d"
            ],
            [
             0.2,
             "#de77ae"
            ],
            [
             0.3,
             "#f1b6da"
            ],
            [
             0.4,
             "#fde0ef"
            ],
            [
             0.5,
             "#f7f7f7"
            ],
            [
             0.6,
             "#e6f5d0"
            ],
            [
             0.7,
             "#b8e186"
            ],
            [
             0.8,
             "#7fbc41"
            ],
            [
             0.9,
             "#4d9221"
            ],
            [
             1,
             "#276419"
            ]
           ],
           "sequential": [
            [
             0,
             "#0d0887"
            ],
            [
             0.1111111111111111,
             "#46039f"
            ],
            [
             0.2222222222222222,
             "#7201a8"
            ],
            [
             0.3333333333333333,
             "#9c179e"
            ],
            [
             0.4444444444444444,
             "#bd3786"
            ],
            [
             0.5555555555555556,
             "#d8576b"
            ],
            [
             0.6666666666666666,
             "#ed7953"
            ],
            [
             0.7777777777777778,
             "#fb9f3a"
            ],
            [
             0.8888888888888888,
             "#fdca26"
            ],
            [
             1,
             "#f0f921"
            ]
           ],
           "sequentialminus": [
            [
             0,
             "#0d0887"
            ],
            [
             0.1111111111111111,
             "#46039f"
            ],
            [
             0.2222222222222222,
             "#7201a8"
            ],
            [
             0.3333333333333333,
             "#9c179e"
            ],
            [
             0.4444444444444444,
             "#bd3786"
            ],
            [
             0.5555555555555556,
             "#d8576b"
            ],
            [
             0.6666666666666666,
             "#ed7953"
            ],
            [
             0.7777777777777778,
             "#fb9f3a"
            ],
            [
             0.8888888888888888,
             "#fdca26"
            ],
            [
             1,
             "#f0f921"
            ]
           ]
          },
          "colorway": [
           "#636efa",
           "#EF553B",
           "#00cc96",
           "#ab63fa",
           "#FFA15A",
           "#19d3f3",
           "#FF6692",
           "#B6E880",
           "#FF97FF",
           "#FECB52"
          ],
          "font": {
           "color": "#2a3f5f"
          },
          "geo": {
           "bgcolor": "white",
           "lakecolor": "white",
           "landcolor": "#E5ECF6",
           "showlakes": true,
           "showland": true,
           "subunitcolor": "white"
          },
          "hoverlabel": {
           "align": "left"
          },
          "hovermode": "closest",
          "mapbox": {
           "style": "light"
          },
          "paper_bgcolor": "white",
          "plot_bgcolor": "#E5ECF6",
          "polar": {
           "angularaxis": {
            "gridcolor": "white",
            "linecolor": "white",
            "ticks": ""
           },
           "bgcolor": "#E5ECF6",
           "radialaxis": {
            "gridcolor": "white",
            "linecolor": "white",
            "ticks": ""
           }
          },
          "scene": {
           "xaxis": {
            "backgroundcolor": "#E5ECF6",
            "gridcolor": "white",
            "gridwidth": 2,
            "linecolor": "white",
            "showbackground": true,
            "ticks": "",
            "zerolinecolor": "white"
           },
           "yaxis": {
            "backgroundcolor": "#E5ECF6",
            "gridcolor": "white",
            "gridwidth": 2,
            "linecolor": "white",
            "showbackground": true,
            "ticks": "",
            "zerolinecolor": "white"
           },
           "zaxis": {
            "backgroundcolor": "#E5ECF6",
            "gridcolor": "white",
            "gridwidth": 2,
            "linecolor": "white",
            "showbackground": true,
            "ticks": "",
            "zerolinecolor": "white"
           }
          },
          "shapedefaults": {
           "line": {
            "color": "#2a3f5f"
           }
          },
          "ternary": {
           "aaxis": {
            "gridcolor": "white",
            "linecolor": "white",
            "ticks": ""
           },
           "baxis": {
            "gridcolor": "white",
            "linecolor": "white",
            "ticks": ""
           },
           "bgcolor": "#E5ECF6",
           "caxis": {
            "gridcolor": "white",
            "linecolor": "white",
            "ticks": ""
           }
          },
          "title": {
           "x": 0.05
          },
          "xaxis": {
           "automargin": true,
           "gridcolor": "white",
           "linecolor": "white",
           "ticks": "",
           "title": {
            "standoff": 15
           },
           "zerolinecolor": "white",
           "zerolinewidth": 2
          },
          "yaxis": {
           "automargin": true,
           "gridcolor": "white",
           "linecolor": "white",
           "ticks": "",
           "title": {
            "standoff": 15
           },
           "zerolinecolor": "white",
           "zerolinewidth": 2
          }
         }
        }
       }
      },
      "text/html": [
       "<div>                            <div id=\"641de4ca-efd8-4e2d-82de-b4a20d944bd5\" class=\"plotly-graph-div\" style=\"height:525px; width:100%;\"></div>            <script type=\"text/javascript\">                require([\"plotly\"], function(Plotly) {                    window.PLOTLYENV=window.PLOTLYENV || {};                                    if (document.getElementById(\"641de4ca-efd8-4e2d-82de-b4a20d944bd5\")) {                    Plotly.newPlot(                        \"641de4ca-efd8-4e2d-82de-b4a20d944bd5\",                        [{\"name\":\"observed\",\"x\":[\"rs587697622\",\"rs587755077\",\"rs587654921\",\"rs587712275\",\"rs587769434\",\"rs587638893\",\"rs587720402\",\"rs587593704\",\"rs587670191\",\"rs587703534\",\"rs139377059\",\"rs587682556\",\"rs587756191\",\"rs587652033\",\"rs587684957\",\"rs587743568\"],\"y\":[0,0,0,0,0,0,0,0,0,0,0,0,0,0,0,0],\"type\":\"scatter\"},{\"name\":\"expected\",\"x\":[\"rs587697622\",\"rs587755077\",\"rs587654921\",\"rs587712275\",\"rs587769434\",\"rs587638893\",\"rs587720402\",\"rs587593704\",\"rs587670191\",\"rs587703534\",\"rs139377059\",\"rs587682556\",\"rs587756191\",\"rs587652033\",\"rs587684957\",\"rs587743568\"],\"y\":[0,0,0,0,0,0,0,0,0,0,0,0,0,0,0,0],\"type\":\"scatter\"}],                        {\"template\":{\"data\":{\"bar\":[{\"error_x\":{\"color\":\"#2a3f5f\"},\"error_y\":{\"color\":\"#2a3f5f\"},\"marker\":{\"line\":{\"color\":\"#E5ECF6\",\"width\":0.5},\"pattern\":{\"fillmode\":\"overlay\",\"size\":10,\"solidity\":0.2}},\"type\":\"bar\"}],\"barpolar\":[{\"marker\":{\"line\":{\"color\":\"#E5ECF6\",\"width\":0.5},\"pattern\":{\"fillmode\":\"overlay\",\"size\":10,\"solidity\":0.2}},\"type\":\"barpolar\"}],\"carpet\":[{\"aaxis\":{\"endlinecolor\":\"#2a3f5f\",\"gridcolor\":\"white\",\"linecolor\":\"white\",\"minorgridcolor\":\"white\",\"startlinecolor\":\"#2a3f5f\"},\"baxis\":{\"endlinecolor\":\"#2a3f5f\",\"gridcolor\":\"white\",\"linecolor\":\"white\",\"minorgridcolor\":\"white\",\"startlinecolor\":\"#2a3f5f\"},\"type\":\"carpet\"}],\"choropleth\":[{\"colorbar\":{\"outlinewidth\":0,\"ticks\":\"\"},\"type\":\"choropleth\"}],\"contour\":[{\"colorbar\":{\"outlinewidth\":0,\"ticks\":\"\"},\"colorscale\":[[0.0,\"#0d0887\"],[0.1111111111111111,\"#46039f\"],[0.2222222222222222,\"#7201a8\"],[0.3333333333333333,\"#9c179e\"],[0.4444444444444444,\"#bd3786\"],[0.5555555555555556,\"#d8576b\"],[0.6666666666666666,\"#ed7953\"],[0.7777777777777778,\"#fb9f3a\"],[0.8888888888888888,\"#fdca26\"],[1.0,\"#f0f921\"]],\"type\":\"contour\"}],\"contourcarpet\":[{\"colorbar\":{\"outlinewidth\":0,\"ticks\":\"\"},\"type\":\"contourcarpet\"}],\"heatmap\":[{\"colorbar\":{\"outlinewidth\":0,\"ticks\":\"\"},\"colorscale\":[[0.0,\"#0d0887\"],[0.1111111111111111,\"#46039f\"],[0.2222222222222222,\"#7201a8\"],[0.3333333333333333,\"#9c179e\"],[0.4444444444444444,\"#bd3786\"],[0.5555555555555556,\"#d8576b\"],[0.6666666666666666,\"#ed7953\"],[0.7777777777777778,\"#fb9f3a\"],[0.8888888888888888,\"#fdca26\"],[1.0,\"#f0f921\"]],\"type\":\"heatmap\"}],\"heatmapgl\":[{\"colorbar\":{\"outlinewidth\":0,\"ticks\":\"\"},\"colorscale\":[[0.0,\"#0d0887\"],[0.1111111111111111,\"#46039f\"],[0.2222222222222222,\"#7201a8\"],[0.3333333333333333,\"#9c179e\"],[0.4444444444444444,\"#bd3786\"],[0.5555555555555556,\"#d8576b\"],[0.6666666666666666,\"#ed7953\"],[0.7777777777777778,\"#fb9f3a\"],[0.8888888888888888,\"#fdca26\"],[1.0,\"#f0f921\"]],\"type\":\"heatmapgl\"}],\"histogram\":[{\"marker\":{\"pattern\":{\"fillmode\":\"overlay\",\"size\":10,\"solidity\":0.2}},\"type\":\"histogram\"}],\"histogram2d\":[{\"colorbar\":{\"outlinewidth\":0,\"ticks\":\"\"},\"colorscale\":[[0.0,\"#0d0887\"],[0.1111111111111111,\"#46039f\"],[0.2222222222222222,\"#7201a8\"],[0.3333333333333333,\"#9c179e\"],[0.4444444444444444,\"#bd3786\"],[0.5555555555555556,\"#d8576b\"],[0.6666666666666666,\"#ed7953\"],[0.7777777777777778,\"#fb9f3a\"],[0.8888888888888888,\"#fdca26\"],[1.0,\"#f0f921\"]],\"type\":\"histogram2d\"}],\"histogram2dcontour\":[{\"colorbar\":{\"outlinewidth\":0,\"ticks\":\"\"},\"colorscale\":[[0.0,\"#0d0887\"],[0.1111111111111111,\"#46039f\"],[0.2222222222222222,\"#7201a8\"],[0.3333333333333333,\"#9c179e\"],[0.4444444444444444,\"#bd3786\"],[0.5555555555555556,\"#d8576b\"],[0.6666666666666666,\"#ed7953\"],[0.7777777777777778,\"#fb9f3a\"],[0.8888888888888888,\"#fdca26\"],[1.0,\"#f0f921\"]],\"type\":\"histogram2dcontour\"}],\"mesh3d\":[{\"colorbar\":{\"outlinewidth\":0,\"ticks\":\"\"},\"type\":\"mesh3d\"}],\"parcoords\":[{\"line\":{\"colorbar\":{\"outlinewidth\":0,\"ticks\":\"\"}},\"type\":\"parcoords\"}],\"pie\":[{\"automargin\":true,\"type\":\"pie\"}],\"scatter\":[{\"marker\":{\"colorbar\":{\"outlinewidth\":0,\"ticks\":\"\"}},\"type\":\"scatter\"}],\"scatter3d\":[{\"line\":{\"colorbar\":{\"outlinewidth\":0,\"ticks\":\"\"}},\"marker\":{\"colorbar\":{\"outlinewidth\":0,\"ticks\":\"\"}},\"type\":\"scatter3d\"}],\"scattercarpet\":[{\"marker\":{\"colorbar\":{\"outlinewidth\":0,\"ticks\":\"\"}},\"type\":\"scattercarpet\"}],\"scattergeo\":[{\"marker\":{\"colorbar\":{\"outlinewidth\":0,\"ticks\":\"\"}},\"type\":\"scattergeo\"}],\"scattergl\":[{\"marker\":{\"colorbar\":{\"outlinewidth\":0,\"ticks\":\"\"}},\"type\":\"scattergl\"}],\"scattermapbox\":[{\"marker\":{\"colorbar\":{\"outlinewidth\":0,\"ticks\":\"\"}},\"type\":\"scattermapbox\"}],\"scatterpolar\":[{\"marker\":{\"colorbar\":{\"outlinewidth\":0,\"ticks\":\"\"}},\"type\":\"scatterpolar\"}],\"scatterpolargl\":[{\"marker\":{\"colorbar\":{\"outlinewidth\":0,\"ticks\":\"\"}},\"type\":\"scatterpolargl\"}],\"scatterternary\":[{\"marker\":{\"colorbar\":{\"outlinewidth\":0,\"ticks\":\"\"}},\"type\":\"scatterternary\"}],\"surface\":[{\"colorbar\":{\"outlinewidth\":0,\"ticks\":\"\"},\"colorscale\":[[0.0,\"#0d0887\"],[0.1111111111111111,\"#46039f\"],[0.2222222222222222,\"#7201a8\"],[0.3333333333333333,\"#9c179e\"],[0.4444444444444444,\"#bd3786\"],[0.5555555555555556,\"#d8576b\"],[0.6666666666666666,\"#ed7953\"],[0.7777777777777778,\"#fb9f3a\"],[0.8888888888888888,\"#fdca26\"],[1.0,\"#f0f921\"]],\"type\":\"surface\"}],\"table\":[{\"cells\":{\"fill\":{\"color\":\"#EBF0F8\"},\"line\":{\"color\":\"white\"}},\"header\":{\"fill\":{\"color\":\"#C8D4E3\"},\"line\":{\"color\":\"white\"}},\"type\":\"table\"}]},\"layout\":{\"annotationdefaults\":{\"arrowcolor\":\"#2a3f5f\",\"arrowhead\":0,\"arrowwidth\":1},\"autotypenumbers\":\"strict\",\"coloraxis\":{\"colorbar\":{\"outlinewidth\":0,\"ticks\":\"\"}},\"colorscale\":{\"diverging\":[[0,\"#8e0152\"],[0.1,\"#c51b7d\"],[0.2,\"#de77ae\"],[0.3,\"#f1b6da\"],[0.4,\"#fde0ef\"],[0.5,\"#f7f7f7\"],[0.6,\"#e6f5d0\"],[0.7,\"#b8e186\"],[0.8,\"#7fbc41\"],[0.9,\"#4d9221\"],[1,\"#276419\"]],\"sequential\":[[0.0,\"#0d0887\"],[0.1111111111111111,\"#46039f\"],[0.2222222222222222,\"#7201a8\"],[0.3333333333333333,\"#9c179e\"],[0.4444444444444444,\"#bd3786\"],[0.5555555555555556,\"#d8576b\"],[0.6666666666666666,\"#ed7953\"],[0.7777777777777778,\"#fb9f3a\"],[0.8888888888888888,\"#fdca26\"],[1.0,\"#f0f921\"]],\"sequentialminus\":[[0.0,\"#0d0887\"],[0.1111111111111111,\"#46039f\"],[0.2222222222222222,\"#7201a8\"],[0.3333333333333333,\"#9c179e\"],[0.4444444444444444,\"#bd3786\"],[0.5555555555555556,\"#d8576b\"],[0.6666666666666666,\"#ed7953\"],[0.7777777777777778,\"#fb9f3a\"],[0.8888888888888888,\"#fdca26\"],[1.0,\"#f0f921\"]]},\"colorway\":[\"#636efa\",\"#EF553B\",\"#00cc96\",\"#ab63fa\",\"#FFA15A\",\"#19d3f3\",\"#FF6692\",\"#B6E880\",\"#FF97FF\",\"#FECB52\"],\"font\":{\"color\":\"#2a3f5f\"},\"geo\":{\"bgcolor\":\"white\",\"lakecolor\":\"white\",\"landcolor\":\"#E5ECF6\",\"showlakes\":true,\"showland\":true,\"subunitcolor\":\"white\"},\"hoverlabel\":{\"align\":\"left\"},\"hovermode\":\"closest\",\"mapbox\":{\"style\":\"light\"},\"paper_bgcolor\":\"white\",\"plot_bgcolor\":\"#E5ECF6\",\"polar\":{\"angularaxis\":{\"gridcolor\":\"white\",\"linecolor\":\"white\",\"ticks\":\"\"},\"bgcolor\":\"#E5ECF6\",\"radialaxis\":{\"gridcolor\":\"white\",\"linecolor\":\"white\",\"ticks\":\"\"}},\"scene\":{\"xaxis\":{\"backgroundcolor\":\"#E5ECF6\",\"gridcolor\":\"white\",\"gridwidth\":2,\"linecolor\":\"white\",\"showbackground\":true,\"ticks\":\"\",\"zerolinecolor\":\"white\"},\"yaxis\":{\"backgroundcolor\":\"#E5ECF6\",\"gridcolor\":\"white\",\"gridwidth\":2,\"linecolor\":\"white\",\"showbackground\":true,\"ticks\":\"\",\"zerolinecolor\":\"white\"},\"zaxis\":{\"backgroundcolor\":\"#E5ECF6\",\"gridcolor\":\"white\",\"gridwidth\":2,\"linecolor\":\"white\",\"showbackground\":true,\"ticks\":\"\",\"zerolinecolor\":\"white\"}},\"shapedefaults\":{\"line\":{\"color\":\"#2a3f5f\"}},\"ternary\":{\"aaxis\":{\"gridcolor\":\"white\",\"linecolor\":\"white\",\"ticks\":\"\"},\"baxis\":{\"gridcolor\":\"white\",\"linecolor\":\"white\",\"ticks\":\"\"},\"bgcolor\":\"#E5ECF6\",\"caxis\":{\"gridcolor\":\"white\",\"linecolor\":\"white\",\"ticks\":\"\"}},\"title\":{\"x\":0.05},\"xaxis\":{\"automargin\":true,\"gridcolor\":\"white\",\"linecolor\":\"white\",\"ticks\":\"\",\"title\":{\"standoff\":15},\"zerolinecolor\":\"white\",\"zerolinewidth\":2},\"yaxis\":{\"automargin\":true,\"gridcolor\":\"white\",\"linecolor\":\"white\",\"ticks\":\"\",\"title\":{\"standoff\":15},\"zerolinecolor\":\"white\",\"zerolinewidth\":2}}}},                        {\"responsive\": true}                    ).then(function(){\n",
       "                            \n",
       "var gd = document.getElementById('641de4ca-efd8-4e2d-82de-b4a20d944bd5');\n",
       "var x = new MutationObserver(function (mutations, observer) {{\n",
       "        var display = window.getComputedStyle(gd).display;\n",
       "        if (!display || display === 'none') {{\n",
       "            console.log([gd, 'removed!']);\n",
       "            Plotly.purge(gd);\n",
       "            observer.disconnect();\n",
       "        }}\n",
       "}});\n",
       "\n",
       "// Listen for the removal of the full notebook cells\n",
       "var notebookContainer = gd.closest('#notebook-container');\n",
       "if (notebookContainer) {{\n",
       "    x.observe(notebookContainer, {childList: true});\n",
       "}}\n",
       "\n",
       "// Listen for the clearing of the current output cell\n",
       "var outputEl = gd.closest('.output');\n",
       "if (outputEl) {{\n",
       "    x.observe(outputEl, {childList: true});\n",
       "}}\n",
       "\n",
       "                        })                };                });            </script>        </div>"
      ]
     },
     "metadata": {},
     "output_type": "display_data"
    }
   ],
   "source": [
    "#https://plotly.com/python/bar-charts/\n",
    "\n",
    "import plotly.graph_objects as go\n",
    "\n",
    "fig = go.Figure(data = [\n",
    "    go.Scatter(name = 'observed', x = df['ID'], y = df['observed']),\n",
    "    go.Scatter(name = 'expected', x = df['ID'], y = df['Expected'])\n",
    "])\n",
    "\n",
    "fig.show()    \n",
    "\n"
   ]
  },
  {
   "cell_type": "markdown",
   "metadata": {},
   "source": [
    "Low heterozygosity means little genetic variability.\n",
    "If the observed heterozygosity is lower than expected, we seek to attribute the discrepancy to forces such as inbreeding. \n",
    "If heterozygosity is higher than expected, we might suspect an isolate-breaking effect (the mixing of two previously isolated populations)."
   ]
  },
  {
   "cell_type": "code",
   "execution_count": null,
   "metadata": {},
   "outputs": [],
   "source": []
  }
 ],
 "metadata": {
  "kernelspec": {
   "display_name": "Python 3",
   "language": "python",
   "name": "python3"
  },
  "language_info": {
   "codemirror_mode": {
    "name": "ipython",
    "version": 3
   },
   "file_extension": ".py",
   "mimetype": "text/x-python",
   "name": "python",
   "nbconvert_exporter": "python",
   "pygments_lexer": "ipython3",
   "version": "3.8.3"
  }
 },
 "nbformat": 4,
 "nbformat_minor": 4
}
