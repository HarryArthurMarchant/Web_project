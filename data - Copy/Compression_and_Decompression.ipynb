{
 "cells": [
  {
   "cell_type": "code",
   "execution_count": 1,
   "id": "de760ac1",
   "metadata": {},
   "outputs": [],
   "source": [
    "import ast"
   ]
  },
  {
   "cell_type": "markdown",
   "id": "fe2caa9a",
   "metadata": {},
   "source": [
    "# Compress"
   ]
  },
  {
   "cell_type": "code",
   "execution_count": 2,
   "id": "b3d71625",
   "metadata": {},
   "outputs": [],
   "source": [
    "\n",
    "jpt = \"[[0, 0], [0, 1], [0, 0], [0, 0], [0, 0], [1, 0], [0, 0], [0, 0], [0, 0], [0, 0], [0, 0], [0, 0], [0, 0], [0, 0], [0, 0], [0, 0], [0, 0], [0, 0], [0, 0], [0, 0], [0, 0], [0, 0], [0, 0], [0, 0], [0, 0], [0, 0], [0, 0], [0, 0], [0, 0], [0, 0], [0, 0], [0, 0], [0, 0], [0, 0], [0, 0], [0, 0], [0, 0], [0, 0], [0, 0], [0, 0], [0, 0], [0, 0], [0, 0], [0, 0], [0, 0], [0, 0], [0, 0], [0, 0], [0, 0], [0, 0], [0, 0], [0, 0], [0, 0], [0, 0], [0, 0], [0, 0], [0, 0], [0, 0], [0, 0], [0, 0], [0, 0], [0, 0], [0, 0], [0, 0], [0, 0], [0, 0], [0, 0], [0, 0], [0, 0], [0, 0], [0, 0], [0, 0], [0, 0], [0, 0], [0, 0], [0, 0], [0, 0], [0, 0], [0, 0], [0, 0], [0, 0], [0, 0], [0, 0], [0, 0], [0, 0], [0, 0], [0, 0], [0, 0], [0, 0], [0, 0], [0, 0], [0, 0], [0, 0], [0, 0], [0, 0], [0, 0], [0, 0], [0, 0], [0, 0], [0, 0], [0, 0], [0, 0], [0, 0], [0, 0]]\"\n",
    "jpt = ast.literal_eval(jpt)"
   ]
  },
  {
   "cell_type": "code",
   "execution_count": 3,
   "id": "445c7cd7",
   "metadata": {},
   "outputs": [
    {
     "name": "stdout",
     "output_type": "stream",
     "text": [
      "['[0, 0]', '[0, 1]', '[0, 0]', '[0, 0]', '[0, 0]', '[1, 0]', '[0, 0]', '[0, 0]', '[0, 0]', '[0, 0]', '[0, 0]', '[0, 0]', '[0, 0]', '[0, 0]', '[0, 0]', '[0, 0]', '[0, 0]', '[0, 0]', '[0, 0]', '[0, 0]', '[0, 0]', '[0, 0]', '[0, 0]', '[0, 0]', '[0, 0]', '[0, 0]', '[0, 0]', '[0, 0]', '[0, 0]', '[0, 0]', '[0, 0]', '[0, 0]', '[0, 0]', '[0, 0]', '[0, 0]', '[0, 0]', '[0, 0]', '[0, 0]', '[0, 0]', '[0, 0]', '[0, 0]', '[0, 0]', '[0, 0]', '[0, 0]', '[0, 0]', '[0, 0]', '[0, 0]', '[0, 0]', '[0, 0]', '[0, 0]', '[0, 0]', '[0, 0]', '[0, 0]', '[0, 0]', '[0, 0]', '[0, 0]', '[0, 0]', '[0, 0]', '[0, 0]', '[0, 0]', '[0, 0]', '[0, 0]', '[0, 0]', '[0, 0]', '[0, 0]', '[0, 0]', '[0, 0]', '[0, 0]', '[0, 0]', '[0, 0]', '[0, 0]', '[0, 0]', '[0, 0]', '[0, 0]', '[0, 0]', '[0, 0]', '[0, 0]', '[0, 0]', '[0, 0]', '[0, 0]', '[0, 0]', '[0, 0]', '[0, 0]', '[0, 0]', '[0, 0]', '[0, 0]', '[0, 0]', '[0, 0]', '[0, 0]', '[0, 0]', '[0, 0]', '[0, 0]', '[0, 0]', '[0, 0]', '[0, 0]', '[0, 0]', '[0, 0]', '[0, 0]', '[0, 0]', '[0, 0]', '[0, 0]', '[0, 0]', '[0, 0]', '[0, 0]']\n"
     ]
    }
   ],
   "source": [
    "temp = []\n",
    "for item in jpt:\n",
    "    temp.append(str(item))\n",
    "    \n",
    "print(temp)"
   ]
  },
  {
   "cell_type": "code",
   "execution_count": 6,
   "id": "bd4c15de",
   "metadata": {},
   "outputs": [
    {
     "name": "stdout",
     "output_type": "stream",
     "text": [
      "[[1, '[0, 0]'], [1, '[0, 1]'], [3, '[0, 0]'], [1, '[1, 0]'], [98, '[0, 0]']]\n"
     ]
    }
   ],
   "source": [
    "compressed = []\n",
    "prev = None\n",
    "count = 0\n",
    "for i,ele in enumerate(temp):\n",
    "    if prev == None:\n",
    "        count += 1\n",
    "        prev = ele\n",
    "        \n",
    "    elif ele == prev and i != len(temp)-1:\n",
    "        count += 1\n",
    "        prev = ele\n",
    "        \n",
    "    elif ele != prev and i != len(temp)-1:\n",
    "        lst = [count,prev]\n",
    "        compressed.append(lst)\n",
    "        count = 1\n",
    "        prev = ele\n",
    "\n",
    "    else:\n",
    "        if ele == prev and i == len(temp)-1:\n",
    "            count+=1\n",
    "            lst = [count,prev]\n",
    "            compressed.append(lst)\n",
    "            count = 0 \n",
    "            prev = None\n",
    "        elif ele != prev and i == len(temp)-1:\n",
    "            count =1\n",
    "            prev = ele\n",
    "            lst = [count,prev]\n",
    "            compressed.append(lst)\n",
    "            prev = None\n",
    "\n",
    "print(compressed)     "
   ]
  },
  {
   "cell_type": "code",
   "execution_count": 8,
   "id": "3894ddd8",
   "metadata": {},
   "outputs": [
    {
     "name": "stdout",
     "output_type": "stream",
     "text": [
      "[[1, '[0, 0]'], [1, '[0, 1]'], [3, '[0, 0]'], [1, '[1, 0]'], [98, '[0, 0]']]\n"
     ]
    }
   ],
   "source": [
    "stg = str(compressed)\n",
    "stg = ast.literal_eval(stg)\n",
    "print(stg)"
   ]
  },
  {
   "cell_type": "markdown",
   "id": "b757d464",
   "metadata": {},
   "source": [
    "# Decompress"
   ]
  },
  {
   "cell_type": "code",
   "execution_count": 11,
   "id": "17d7895f",
   "metadata": {},
   "outputs": [
    {
     "name": "stdout",
     "output_type": "stream",
     "text": [
      "[[0, 0], [0, 1], [0, 0], [0, 0], [0, 0], [1, 0], [0, 0], [0, 0], [0, 0], [0, 0], [0, 0], [0, 0], [0, 0], [0, 0], [0, 0], [0, 0], [0, 0], [0, 0], [0, 0], [0, 0], [0, 0], [0, 0], [0, 0], [0, 0], [0, 0], [0, 0], [0, 0], [0, 0], [0, 0], [0, 0], [0, 0], [0, 0], [0, 0], [0, 0], [0, 0], [0, 0], [0, 0], [0, 0], [0, 0], [0, 0], [0, 0], [0, 0], [0, 0], [0, 0], [0, 0], [0, 0], [0, 0], [0, 0], [0, 0], [0, 0], [0, 0], [0, 0], [0, 0], [0, 0], [0, 0], [0, 0], [0, 0], [0, 0], [0, 0], [0, 0], [0, 0], [0, 0], [0, 0], [0, 0], [0, 0], [0, 0], [0, 0], [0, 0], [0, 0], [0, 0], [0, 0], [0, 0], [0, 0], [0, 0], [0, 0], [0, 0], [0, 0], [0, 0], [0, 0], [0, 0], [0, 0], [0, 0], [0, 0], [0, 0], [0, 0], [0, 0], [0, 0], [0, 0], [0, 0], [0, 0], [0, 0], [0, 0], [0, 0], [0, 0], [0, 0], [0, 0], [0, 0], [0, 0], [0, 0], [0, 0], [0, 0], [0, 0], [0, 0], [0, 0]]\n"
     ]
    }
   ],
   "source": [
    "snp_jpt = []\n",
    "temp_snp = \"\"\n",
    "for item in compressed:\n",
    "    temp = []\n",
    "    rep = int(item[0])\n",
    "    item = item[1]+','\n",
    "    item = rep*item\n",
    "    temp_snp += item\n",
    "    \n",
    "temp_snp = temp_snp[:-1]\n",
    "temp_snp = list(ast.literal_eval(temp_snp))\n",
    "print(temp_snp)"
   ]
  },
  {
   "cell_type": "code",
   "execution_count": 12,
   "id": "e0e71e1f",
   "metadata": {},
   "outputs": [
    {
     "data": {
      "text/plain": [
       "True"
      ]
     },
     "execution_count": 12,
     "metadata": {},
     "output_type": "execute_result"
    }
   ],
   "source": [
    "temp_snp ==jpt"
   ]
  },
  {
   "cell_type": "code",
   "execution_count": null,
   "id": "9ceff2ae",
   "metadata": {},
   "outputs": [],
   "source": []
  }
 ],
 "metadata": {
  "kernelspec": {
   "display_name": "Python 3 (ipykernel)",
   "language": "python",
   "name": "python3"
  },
  "language_info": {
   "codemirror_mode": {
    "name": "ipython",
    "version": 3
   },
   "file_extension": ".py",
   "mimetype": "text/x-python",
   "name": "python",
   "nbconvert_exporter": "python",
   "pygments_lexer": "ipython3",
   "version": "3.8.12"
  }
 },
 "nbformat": 4,
 "nbformat_minor": 5
}
